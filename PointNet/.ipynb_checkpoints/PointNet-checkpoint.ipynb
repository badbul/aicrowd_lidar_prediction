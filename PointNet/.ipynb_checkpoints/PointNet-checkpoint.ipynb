{
 "cells": [
  {
   "cell_type": "code",
   "execution_count": 1,
   "metadata": {},
   "outputs": [],
   "source": [
    "import pandas as pd\n",
    "from pathlib import Path\n",
    "import numpy as np\n",
    "from sklearn.model_selection import train_test_split\n",
    "from sklearn.ensemble import RandomForestRegressor\n",
    "import os\n",
    "import matplotlib.pyplot as plt\n",
    "import random\n",
    "import shutil\n",
    "from collections import OrderedDict\n",
    "from tqdm.notebook import tqdm\n",
    "\n",
    "import torch\n",
    "import pytorch_lightning as pl\n",
    "from pathlib import Path\n",
    "from pytorch_lightning.callbacks.model_checkpoint import ModelCheckpoint\n",
    "from pytorch_lightning.loggers import TensorBoardLogger, MLFlowLogger\n",
    "from pytorch_lightning.utilities.distributed import rank_zero_only\n",
    "\n",
    "from modules.datasets import PointDataModule\n",
    "from modules.models import PointNetModel\n",
    "from modules.utils import read_config\n",
    "\n",
    "%load_ext autoreload\n",
    "%autoreload 2"
   ]
  },
  {
   "cell_type": "code",
   "execution_count": 2,
   "metadata": {},
   "outputs": [],
   "source": [
    "DATA_PATH = '../input/'\n",
    "OUTPUT_PATH = 'output/'\n",
    "OUTPUT_CHECKPOINT = OUTPUT_PATH + 'best_model.ckpt'\n",
    "TRN_CONFIG_PATH = 'configs/train.yaml'\n",
    "TST_CONFIG_PATH = 'configs/infer.yaml'\n",
    "LOG_DIR = 'work_dir/lightning_logs'\n",
    "\n",
    "\n",
    "num_workers = 0"
   ]
  },
  {
   "cell_type": "markdown",
   "metadata": {},
   "source": [
    "### Init Datamodule"
   ]
  },
  {
   "cell_type": "code",
   "execution_count": 8,
   "metadata": {},
   "outputs": [
    {
     "name": "stderr",
     "output_type": "stream",
     "text": [
      "Global seed set to 42\n"
     ]
    },
    {
     "data": {
      "text/plain": [
       "(torch.Size([4, 38793, 3]), torch.Size([4, 1]))"
      ]
     },
     "execution_count": 8,
     "metadata": {},
     "output_type": "execute_result"
    }
   ],
   "source": [
    "config = read_config(TRN_CONFIG_PATH)\n",
    "config['num_workers'] = num_workers\n",
    "\n",
    "pl.seed_everything(config[\"seed\"])\n",
    "\n",
    "dm = PointDataModule(\n",
    "        DATA_PATH,\n",
    "        valid_size=0.1,\n",
    "        config=config\n",
    "    )\n",
    "dm.setup('fit')\n",
    "ds = next(iter(dm.train_dataloader()))\n",
    "\n",
    "ds['pointcloud'].shape, ds['label'].shape"
   ]
  },
  {
   "cell_type": "markdown",
   "metadata": {},
   "source": [
    "### Training"
   ]
  },
  {
   "cell_type": "code",
   "execution_count": 14,
   "metadata": {},
   "outputs": [
    {
     "name": "stderr",
     "output_type": "stream",
     "text": [
      "GPU available: True, used: True\n",
      "TPU available: False, using: 0 TPU cores\n",
      "IPU available: False, using: 0 IPUs\n",
      "LOCAL_RANK: 0 - CUDA_VISIBLE_DEVICES: [0]\n",
      "\n",
      "  | Name | Type     | Params\n",
      "----------------------------------\n",
      "0 | net  | PointNet | 3.5 M \n",
      "----------------------------------\n",
      "3.5 M     Trainable params\n",
      "0         Non-trainable params\n",
      "3.5 M     Total params\n",
      "13.846    Total estimated model params size (MB)\n"
     ]
    },
    {
     "data": {
      "application/vnd.jupyter.widget-view+json": {
       "model_id": "",
       "version_major": 2,
       "version_minor": 0
      },
      "text/plain": [
       "Validation sanity check: 0it [00:00, ?it/s]"
      ]
     },
     "metadata": {},
     "output_type": "display_data"
    },
    {
     "name": "stderr",
     "output_type": "stream",
     "text": [
      "Global seed set to 42\n"
     ]
    },
    {
     "data": {
      "application/vnd.jupyter.widget-view+json": {
       "model_id": "c2d216b988844047bc66f2d6329de90f",
       "version_major": 2,
       "version_minor": 0
      },
      "text/plain": [
       "Training: -1it [00:00, ?it/s]"
      ]
     },
     "metadata": {},
     "output_type": "display_data"
    },
    {
     "data": {
      "application/vnd.jupyter.widget-view+json": {
       "model_id": "",
       "version_major": 2,
       "version_minor": 0
      },
      "text/plain": [
       "Validating: 0it [00:00, ?it/s]"
      ]
     },
     "metadata": {},
     "output_type": "display_data"
    },
    {
     "name": "stderr",
     "output_type": "stream",
     "text": [
      "Epoch 0, global step 89: val_loss reached 2.86092 (best 2.86092), saving model to \"/home/bulat/ML/Kaggle/AICrowd/LidarCarDetection/PointNet/work_dir/lightning_logs/name/version_4/checkpoints/epoch=0-step=89.ckpt\" as top 1\n"
     ]
    },
    {
     "data": {
      "application/vnd.jupyter.widget-view+json": {
       "model_id": "",
       "version_major": 2,
       "version_minor": 0
      },
      "text/plain": [
       "Validating: 0it [00:00, ?it/s]"
      ]
     },
     "metadata": {},
     "output_type": "display_data"
    },
    {
     "name": "stderr",
     "output_type": "stream",
     "text": [
      "Epoch 1, global step 179: val_loss reached 2.61460 (best 2.61460), saving model to \"/home/bulat/ML/Kaggle/AICrowd/LidarCarDetection/PointNet/work_dir/lightning_logs/name/version_4/checkpoints/epoch=1-step=179.ckpt\" as top 1\n"
     ]
    }
   ],
   "source": [
    "@rank_zero_only\n",
    "def copy_checkpoint(src_checkpoint_path, dst_checkpoint_path):\n",
    "    dst_checkpoint_path.parents[0].mkdir(parents=True, exist_ok=True)\n",
    "    shutil.copy(src_checkpoint_path, dst_checkpoint_path)\n",
    "\n",
    "model = PointNetModel(config)\n",
    "tb_logger = TensorBoardLogger(LOG_DIR, name='name')\n",
    "checkpoint_path = os.path.join(tb_logger.log_dir, 'checkpoints')\n",
    "\n",
    "checkpoint_callback = ModelCheckpoint(\n",
    "        dirpath=checkpoint_path,\n",
    "        save_last=True,\n",
    "        **config['checkpoint_callback']\n",
    ")\n",
    "\n",
    "trainer = pl.Trainer(\n",
    "        logger=[tb_logger],\n",
    "        callbacks=[checkpoint_callback],\n",
    "        gpus=[0],\n",
    "        max_epochs=config['n_epochs']\n",
    ")\n",
    "trainer.logger.log_hyperparams(config)\n",
    "trainer.fit(model, datamodule=dm)\n",
    "\n",
    "# Copy best checkpoint to best infer model folder\n",
    "checkpoint_path = checkpoint_callback.best_model_path\n",
    "if OUTPUT_CHECKPOINT is not None:\n",
    "        copy_checkpoint(\n",
    "            checkpoint_path,\n",
    "            Path(OUTPUT_CHECKPOINT)\n",
    "       )"
   ]
  },
  {
   "cell_type": "markdown",
   "metadata": {},
   "source": [
    "### Inference"
   ]
  },
  {
   "cell_type": "code",
   "execution_count": 3,
   "metadata": {},
   "outputs": [
    {
     "name": "stderr",
     "output_type": "stream",
     "text": [
      "Global seed set to 42\n"
     ]
    },
    {
     "data": {
      "text/plain": [
       "torch.Size([2, 38793, 3])"
      ]
     },
     "execution_count": 3,
     "metadata": {},
     "output_type": "execute_result"
    }
   ],
   "source": [
    "# Prepare datamodule\n",
    "config = read_config(TST_CONFIG_PATH)\n",
    "config['num_workers'] = num_workers\n",
    "pl.seed_everything(config[\"seed\"])\n",
    "\n",
    "dm = PointDataModule(\n",
    "        DATA_PATH,\n",
    "        valid_size=0.1,\n",
    "        config=config\n",
    "    )\n",
    "dm.setup('test')\n",
    "ds = next(iter(dm.test_dataloader()))\n",
    "ds['pointcloud'].shape"
   ]
  },
  {
   "cell_type": "code",
   "execution_count": 4,
   "metadata": {},
   "outputs": [
    {
     "data": {
      "application/vnd.jupyter.widget-view+json": {
       "model_id": "535f5317e4ef48a7b926b004643f0f28",
       "version_major": 2,
       "version_minor": 0
      },
      "text/plain": [
       "  0%|          | 0/301 [00:00<?, ?it/s]"
      ]
     },
     "metadata": {},
     "output_type": "display_data"
    },
    {
     "name": "stderr",
     "output_type": "stream",
     "text": [
      "/home/bulat/anaconda3/envs/lidar_car_detection/lib/python3.9/site-packages/torch/nn/functional.py:652: UserWarning: Named tensors and all their associated APIs are an experimental feature and subject to change. Please do not use them for anything important until they are released as stable. (Triggered internally at  /opt/conda/conda-bld/pytorch_1623448255797/work/c10/core/TensorImpl.h:1156.)\n",
      "  return torch.max_pool1d(input, kernel_size, stride, padding, dilation, ceil_mode)\n"
     ]
    }
   ],
   "source": [
    "# Inference\n",
    "model = PointNetModel(config)\n",
    "model = model.net\n",
    "checkpoint = torch.load(OUTPUT_CHECKPOINT)['state_dict']\n",
    "upd_checkpoint = OrderedDict()\n",
    "for key in checkpoint.keys():\n",
    "        upd_checkpoint['.'.join(key.split('.')[1:])] = checkpoint[key]\n",
    "    # Update model weights\n",
    "model.load_state_dict(upd_checkpoint)\n",
    "\n",
    "model.eval()\n",
    "model.cuda()\n",
    "\n",
    "ids = []\n",
    "labels = []\n",
    "for batch in tqdm(dm.test_dataloader()):\n",
    "    inputs, indicies = batch['pointcloud'], batch['index']\n",
    "    inputs = inputs.transpose(1, 2).cuda()\n",
    "    outputs, m3x3, m64x64 = model(inputs)\n",
    "    labels.append(outputs.view(-1).detach().cpu().numpy())\n",
    "    ids.append(indicies)"
   ]
  },
  {
   "cell_type": "code",
   "execution_count": 5,
   "metadata": {},
   "outputs": [
    {
     "data": {
      "text/html": [
       "<div>\n",
       "<style scoped>\n",
       "    .dataframe tbody tr th:only-of-type {\n",
       "        vertical-align: middle;\n",
       "    }\n",
       "\n",
       "    .dataframe tbody tr th {\n",
       "        vertical-align: top;\n",
       "    }\n",
       "\n",
       "    .dataframe thead th {\n",
       "        text-align: right;\n",
       "    }\n",
       "</style>\n",
       "<table border=\"1\" class=\"dataframe\">\n",
       "  <thead>\n",
       "    <tr style=\"text-align: right;\">\n",
       "      <th></th>\n",
       "      <th>label</th>\n",
       "    </tr>\n",
       "  </thead>\n",
       "  <tbody>\n",
       "    <tr>\n",
       "      <th>0</th>\n",
       "      <td>2.439780</td>\n",
       "    </tr>\n",
       "    <tr>\n",
       "      <th>1</th>\n",
       "      <td>1.600878</td>\n",
       "    </tr>\n",
       "    <tr>\n",
       "      <th>2</th>\n",
       "      <td>2.042607</td>\n",
       "    </tr>\n",
       "    <tr>\n",
       "      <th>3</th>\n",
       "      <td>2.253272</td>\n",
       "    </tr>\n",
       "    <tr>\n",
       "      <th>4</th>\n",
       "      <td>1.611144</td>\n",
       "    </tr>\n",
       "  </tbody>\n",
       "</table>\n",
       "</div>"
      ],
      "text/plain": [
       "      label\n",
       "0  2.439780\n",
       "1  1.600878\n",
       "2  2.042607\n",
       "3  2.253272\n",
       "4  1.611144"
      ]
     },
     "execution_count": 5,
     "metadata": {},
     "output_type": "execute_result"
    }
   ],
   "source": [
    "# Create submission file\n",
    "ids = np.hstack(ids)\n",
    "labels = np.hstack(labels)\n",
    "submission = pd.DataFrame(np.vstack([ids, labels]).transpose(), columns=['idx', 'label'])\n",
    "submission.index = submission['idx'].values.astype(int)\n",
    "submission = submission.sort_index()\n",
    "submission = submission.drop(['idx'], axis=1)\n",
    "submission.to_csv('submission.csv', index=False)\n",
    "submission.head()\n"
   ]
  },
  {
   "cell_type": "code",
   "execution_count": 6,
   "metadata": {},
   "outputs": [
    {
     "data": {
      "image/png": "[encoded data removed]",
      "text/plain": [
       "<Figure size 432x288 with 1 Axes>"
      ]
     },
     "metadata": {
      "needs_background": "light"
     },
     "output_type": "display_data"
    }
   ],
   "source": [
    "submission['label'].hist(bins=100);"
   ]
  }
 ],
 "metadata": {
  "kernelspec": {
   "display_name": "Python 3 (ipykernel)",
   "language": "python",
   "name": "python3"
  },
  "language_info": {
   "codemirror_mode": {
    "name": "ipython",
    "version": 3
   },
   "file_extension": ".py",
   "mimetype": "text/x-python",
   "name": "python",
   "nbconvert_exporter": "python",
   "pygments_lexer": "ipython3",
   "version": "3.9.0"
  }
 },
 "nbformat": 4,
 "nbformat_minor": 2
}
